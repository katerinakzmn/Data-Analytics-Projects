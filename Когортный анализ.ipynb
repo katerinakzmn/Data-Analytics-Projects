{
 "cells": [
  {
   "cell_type": "markdown",
   "id": "665ac5a3-91f7-48d0-a626-50d907d5a062",
   "metadata": {},
   "source": [
    "## Аналитика в Яндекс.Афише"
   ]
  },
  {
   "cell_type": "markdown",
   "id": "24fc9058-b309-40a0-9235-2c92d4e2ddf5",
   "metadata": {},
   "source": [
    "### Описание проекта"
   ]
  },
  {
   "cell_type": "markdown",
   "id": "ab810e39-7ba1-4be7-b479-e5f9bedb4709",
   "metadata": {},
   "source": [
    "На основе данных от Яндекс.Афиши (с июня 2017 по конец мая 2018 года) необходимо сформировать предложения по оптимизации маркетинговых затрат.\n",
    "\n",
    "В нашем распоряжении:\n",
    "* лог сервера с данными о посещениях сайта Яндекс.Афиши\n",
    "* выгрузка всех заказов за этот период\n",
    "* статистика рекламных расходов"
   ]
  },
  {
   "cell_type": "markdown",
   "id": "0eb9aa7a-e143-4766-afdb-e2958e06d917",
   "metadata": {
    "jp-MarkdownHeadingCollapsed": true
   },
   "source": [
    "### Цель исследования:\n",
    "1. Провести исследовательский анализ данных \n",
    "2. Построить отчеты и посчитать метрики для следующих параметров: \n",
    "    1. __Продукт__\n",
    "        * *Сколько людей пользуются продуктом в день, неделю, месяц*\n",
    "        * *Сколько сессий в день*\n",
    "        * *Сколько длится одна сессия*\n",
    "        * *Как часто люди возвращаются*\n",
    "    2. __Продажи__\n",
    "        * *Когда люди начинают покупать продукт*\n",
    "        * *Сколько раз покупают за период*\n",
    "        * *Какой средний чек*\n",
    "        * *Сколько денег приносят? (LTV)*\n",
    "    3. __Маркетинг__\n",
    "        * *Сколько денег потратили: __Всего__ / __на каждый источник__ / __по времени__*\n",
    "        * *Сколько стоило привлечение одного покупателя из каждого источника?*\n",
    "        * *На сколько окупились расходы? (ROI)*\n",
    "3. Сформулировать вывод на основании проведенного анализа и дать рекомендации для отдела маркетологов"
   ]
  },
  {
   "cell_type": "markdown",
   "id": "3d36cc54-52ef-4db6-9aca-c212f520fff9",
   "metadata": {},
   "source": [
    "### Информация о входных данных\n",
    "\n",
    "\n",
    "Таблица __visits__ - лог сервера с информацией о посещениях сайта:\n",
    "* __``Uid``__ — *уникальный идентификатор пользователя*\n",
    "* __``Device``__ — *категория устройства пользователя*\n",
    "* __``Start Ts``__ — *дата и время начала сессии*\n",
    "* __``End Ts``__ — *дата и время окончания сессии*\n",
    "* __``Source Id``__ — *идентификатор рекламного источника, из которого пришел пользователь*\n",
    "\n",
    "\n",
    "Таблица __orders__ - информация о заказах:\n",
    "* __``Uid``__ — *уникальный id пользователя, который сделал заказ*\n",
    "* __``Buy Ts``__ — *дата и время заказа*\n",
    "* __``Revenue``__ — *выручка Яндекс.Афиши с этого заказа*\n",
    "\n",
    "\n",
    "Таблица __costs__ - информация о затратах на маркетинг:\n",
    "* __``source_id``__ — *идентификатор рекламного источника*\n",
    "* __``dt``__ — *дата*\n",
    "* __``costs``__ — *затраты на этот рекламный источник в этот день*"
   ]
  },
  {
   "cell_type": "markdown",
   "id": "6a699ad6-fcaa-40fa-9659-9b2db7ccdf83",
   "metadata": {},
   "source": [
    "### Загрузим данные и подготовим их к анализу"
   ]
  },
  {
   "cell_type": "markdown",
   "id": "16ac1888-0bd9-4d8d-a89f-7cd9479f51d0",
   "metadata": {},
   "source": [
    "#### Загрузка библиотек"
   ]
  },
  {
   "cell_type": "code",
   "execution_count": 41,
   "id": "c5a73c32-e2e5-4ee0-b525-b840b0c50713",
   "metadata": {},
   "outputs": [],
   "source": [
    "import pandas as pd\n",
    "from matplotlib import pyplot as plt\n",
    "import numpy as np\n",
    "import seaborn as sns; sns.set()\n",
    "from IPython.display import display\n",
    "from scipy import stats as st\n",
    "%matplotlib inline\n",
    "pd.set_option('display.max_columns', 500)\n",
    "pd.options.mode.chained_assignment = None"
   ]
  },
  {
   "cell_type": "markdown",
   "id": "0cf9b32b-f961-480b-be3b-0304985af1e2",
   "metadata": {},
   "source": [
    "#### Загрузка данных"
   ]
  },
  {
   "cell_type": "code",
   "execution_count": 43,
   "id": "ba519898-c77a-4867-8470-ed3001665166",
   "metadata": {},
   "outputs": [],
   "source": [
    "visits = pd.read_csv('visits_log.csv')  \n",
    "orders = pd.read_csv('orders_log.csv')  \n",
    "marketing = pd.read_csv('costs.csv')"
   ]
  },
  {
   "cell_type": "code",
   "execution_count": 44,
   "id": "bc910fc4-ef33-45af-8956-7d9666414748",
   "metadata": {},
   "outputs": [],
   "source": [
    "# Создаю функцию для получения основной информации о датафрейме\n",
    "def datainfo(dataframe):\n",
    "    display(dataframe.head(10))\n",
    "    display(dataframe.describe())\n",
    "    dataframe.info()\n",
    "    print(\"\", sep = '\\n\\n')\n",
    "    print(\"Name of columns:\")\n",
    "    display(dataframe.columns)\n",
    "    print(\"\", sep = '\\n\\n')\n",
    "    print(\"Unique values:\")\n",
    "    display(dataframe.nunique())\n",
    "    print(\"\", sep = '\\n\\n')\n",
    "    print(\"Sum of NaN values:\")\n",
    "    display(dataframe.isna().sum())"
   ]
  },
  {
   "cell_type": "markdown",
   "id": "6c7f6c3c-84af-4018-b5da-b5df548cec72",
   "metadata": {},
   "source": [
    "### EDA"
   ]
  },
  {
   "cell_type": "code",
   "execution_count": 45,
   "id": "b84a27a2-9921-4249-90e4-988952d54e89",
   "metadata": {},
   "outputs": [
    {
     "data": {
      "text/html": [
       "<div>\n",
       "<style scoped>\n",
       "    .dataframe tbody tr th:only-of-type {\n",
       "        vertical-align: middle;\n",
       "    }\n",
       "\n",
       "    .dataframe tbody tr th {\n",
       "        vertical-align: top;\n",
       "    }\n",
       "\n",
       "    .dataframe thead th {\n",
       "        text-align: right;\n",
       "    }\n",
       "</style>\n",
       "<table border=\"1\" class=\"dataframe\">\n",
       "  <thead>\n",
       "    <tr style=\"text-align: right;\">\n",
       "      <th></th>\n",
       "      <th>Device</th>\n",
       "      <th>End Ts</th>\n",
       "      <th>Source Id</th>\n",
       "      <th>Start Ts</th>\n",
       "      <th>Uid</th>\n",
       "    </tr>\n",
       "  </thead>\n",
       "  <tbody>\n",
       "    <tr>\n",
       "      <th>0</th>\n",
       "      <td>touch</td>\n",
       "      <td>2017-12-20 17:38:00</td>\n",
       "      <td>4</td>\n",
       "      <td>2017-12-20 17:20:00</td>\n",
       "      <td>16879256277535980062</td>\n",
       "    </tr>\n",
       "    <tr>\n",
       "      <th>1</th>\n",
       "      <td>desktop</td>\n",
       "      <td>2018-02-19 17:21:00</td>\n",
       "      <td>2</td>\n",
       "      <td>2018-02-19 16:53:00</td>\n",
       "      <td>104060357244891740</td>\n",
       "    </tr>\n",
       "    <tr>\n",
       "      <th>2</th>\n",
       "      <td>touch</td>\n",
       "      <td>2017-07-01 01:54:00</td>\n",
       "      <td>5</td>\n",
       "      <td>2017-07-01 01:54:00</td>\n",
       "      <td>7459035603376831527</td>\n",
       "    </tr>\n",
       "    <tr>\n",
       "      <th>3</th>\n",
       "      <td>desktop</td>\n",
       "      <td>2018-05-20 11:23:00</td>\n",
       "      <td>9</td>\n",
       "      <td>2018-05-20 10:59:00</td>\n",
       "      <td>16174680259334210214</td>\n",
       "    </tr>\n",
       "    <tr>\n",
       "      <th>4</th>\n",
       "      <td>desktop</td>\n",
       "      <td>2017-12-27 14:06:00</td>\n",
       "      <td>3</td>\n",
       "      <td>2017-12-27 14:06:00</td>\n",
       "      <td>9969694820036681168</td>\n",
       "    </tr>\n",
       "    <tr>\n",
       "      <th>5</th>\n",
       "      <td>desktop</td>\n",
       "      <td>2017-09-03 21:36:00</td>\n",
       "      <td>5</td>\n",
       "      <td>2017-09-03 21:35:00</td>\n",
       "      <td>16007536194108375387</td>\n",
       "    </tr>\n",
       "    <tr>\n",
       "      <th>6</th>\n",
       "      <td>desktop</td>\n",
       "      <td>2018-01-30 12:09:00</td>\n",
       "      <td>1</td>\n",
       "      <td>2018-01-30 11:13:00</td>\n",
       "      <td>6661610529277171451</td>\n",
       "    </tr>\n",
       "    <tr>\n",
       "      <th>7</th>\n",
       "      <td>touch</td>\n",
       "      <td>2017-11-05 15:15:00</td>\n",
       "      <td>3</td>\n",
       "      <td>2017-11-05 15:14:00</td>\n",
       "      <td>11423865690854540312</td>\n",
       "    </tr>\n",
       "    <tr>\n",
       "      <th>8</th>\n",
       "      <td>desktop</td>\n",
       "      <td>2017-07-19 10:44:00</td>\n",
       "      <td>3</td>\n",
       "      <td>2017-07-19 10:41:00</td>\n",
       "      <td>2987360259350925644</td>\n",
       "    </tr>\n",
       "    <tr>\n",
       "      <th>9</th>\n",
       "      <td>desktop</td>\n",
       "      <td>2017-11-08 13:43:00</td>\n",
       "      <td>5</td>\n",
       "      <td>2017-11-08 13:42:00</td>\n",
       "      <td>1289240080042562063</td>\n",
       "    </tr>\n",
       "  </tbody>\n",
       "</table>\n",
       "</div>"
      ],
      "text/plain": [
       "    Device               End Ts  Source Id             Start Ts  \\\n",
       "0    touch  2017-12-20 17:38:00          4  2017-12-20 17:20:00   \n",
       "1  desktop  2018-02-19 17:21:00          2  2018-02-19 16:53:00   \n",
       "2    touch  2017-07-01 01:54:00          5  2017-07-01 01:54:00   \n",
       "3  desktop  2018-05-20 11:23:00          9  2018-05-20 10:59:00   \n",
       "4  desktop  2017-12-27 14:06:00          3  2017-12-27 14:06:00   \n",
       "5  desktop  2017-09-03 21:36:00          5  2017-09-03 21:35:00   \n",
       "6  desktop  2018-01-30 12:09:00          1  2018-01-30 11:13:00   \n",
       "7    touch  2017-11-05 15:15:00          3  2017-11-05 15:14:00   \n",
       "8  desktop  2017-07-19 10:44:00          3  2017-07-19 10:41:00   \n",
       "9  desktop  2017-11-08 13:43:00          5  2017-11-08 13:42:00   \n",
       "\n",
       "                    Uid  \n",
       "0  16879256277535980062  \n",
       "1    104060357244891740  \n",
       "2   7459035603376831527  \n",
       "3  16174680259334210214  \n",
       "4   9969694820036681168  \n",
       "5  16007536194108375387  \n",
       "6   6661610529277171451  \n",
       "7  11423865690854540312  \n",
       "8   2987360259350925644  \n",
       "9   1289240080042562063  "
      ]
     },
     "metadata": {},
     "output_type": "display_data"
    },
    {
     "data": {
      "text/html": [
       "<div>\n",
       "<style scoped>\n",
       "    .dataframe tbody tr th:only-of-type {\n",
       "        vertical-align: middle;\n",
       "    }\n",
       "\n",
       "    .dataframe tbody tr th {\n",
       "        vertical-align: top;\n",
       "    }\n",
       "\n",
       "    .dataframe thead th {\n",
       "        text-align: right;\n",
       "    }\n",
       "</style>\n",
       "<table border=\"1\" class=\"dataframe\">\n",
       "  <thead>\n",
       "    <tr style=\"text-align: right;\">\n",
       "      <th></th>\n",
       "      <th>Source Id</th>\n",
       "      <th>Uid</th>\n",
       "    </tr>\n",
       "  </thead>\n",
       "  <tbody>\n",
       "    <tr>\n",
       "      <th>count</th>\n",
       "      <td>359400.000000</td>\n",
       "      <td>3.594000e+05</td>\n",
       "    </tr>\n",
       "    <tr>\n",
       "      <th>mean</th>\n",
       "      <td>3.750515</td>\n",
       "      <td>9.202557e+18</td>\n",
       "    </tr>\n",
       "    <tr>\n",
       "      <th>std</th>\n",
       "      <td>1.917116</td>\n",
       "      <td>5.298433e+18</td>\n",
       "    </tr>\n",
       "    <tr>\n",
       "      <th>min</th>\n",
       "      <td>1.000000</td>\n",
       "      <td>1.186350e+13</td>\n",
       "    </tr>\n",
       "    <tr>\n",
       "      <th>25%</th>\n",
       "      <td>3.000000</td>\n",
       "      <td>4.613407e+18</td>\n",
       "    </tr>\n",
       "    <tr>\n",
       "      <th>50%</th>\n",
       "      <td>4.000000</td>\n",
       "      <td>9.227413e+18</td>\n",
       "    </tr>\n",
       "    <tr>\n",
       "      <th>75%</th>\n",
       "      <td>5.000000</td>\n",
       "      <td>1.372824e+19</td>\n",
       "    </tr>\n",
       "    <tr>\n",
       "      <th>max</th>\n",
       "      <td>10.000000</td>\n",
       "      <td>1.844668e+19</td>\n",
       "    </tr>\n",
       "  </tbody>\n",
       "</table>\n",
       "</div>"
      ],
      "text/plain": [
       "           Source Id           Uid\n",
       "count  359400.000000  3.594000e+05\n",
       "mean        3.750515  9.202557e+18\n",
       "std         1.917116  5.298433e+18\n",
       "min         1.000000  1.186350e+13\n",
       "25%         3.000000  4.613407e+18\n",
       "50%         4.000000  9.227413e+18\n",
       "75%         5.000000  1.372824e+19\n",
       "max        10.000000  1.844668e+19"
      ]
     },
     "metadata": {},
     "output_type": "display_data"
    },
    {
     "name": "stdout",
     "output_type": "stream",
     "text": [
      "<class 'pandas.core.frame.DataFrame'>\n",
      "RangeIndex: 359400 entries, 0 to 359399\n",
      "Data columns (total 5 columns):\n",
      " #   Column     Non-Null Count   Dtype \n",
      "---  ------     --------------   ----- \n",
      " 0   Device     359400 non-null  object\n",
      " 1   End Ts     359400 non-null  object\n",
      " 2   Source Id  359400 non-null  int64 \n",
      " 3   Start Ts   359400 non-null  object\n",
      " 4   Uid        359400 non-null  uint64\n",
      "dtypes: int64(1), object(3), uint64(1)\n",
      "memory usage: 13.7+ MB\n",
      "\n",
      "Name of columns:\n"
     ]
    },
    {
     "data": {
      "text/plain": [
       "Index(['Device', 'End Ts', 'Source Id', 'Start Ts', 'Uid'], dtype='object')"
      ]
     },
     "metadata": {},
     "output_type": "display_data"
    },
    {
     "name": "stdout",
     "output_type": "stream",
     "text": [
      "\n",
      "Unique values:\n"
     ]
    },
    {
     "data": {
      "text/plain": [
       "Device            2\n",
       "End Ts       224760\n",
       "Source Id         9\n",
       "Start Ts     224303\n",
       "Uid          228169\n",
       "dtype: int64"
      ]
     },
     "metadata": {},
     "output_type": "display_data"
    },
    {
     "name": "stdout",
     "output_type": "stream",
     "text": [
      "\n",
      "Sum of NaN values:\n"
     ]
    },
    {
     "data": {
      "text/plain": [
       "Device       0\n",
       "End Ts       0\n",
       "Source Id    0\n",
       "Start Ts     0\n",
       "Uid          0\n",
       "dtype: int64"
      ]
     },
     "metadata": {},
     "output_type": "display_data"
    }
   ],
   "source": [
    "datainfo(visits)"
   ]
  },
  {
   "cell_type": "code",
   "execution_count": 46,
   "id": "9ed7e5a0-6524-4d45-9c21-64664ee0bcb4",
   "metadata": {},
   "outputs": [
    {
     "data": {
      "text/html": [
       "<div>\n",
       "<style scoped>\n",
       "    .dataframe tbody tr th:only-of-type {\n",
       "        vertical-align: middle;\n",
       "    }\n",
       "\n",
       "    .dataframe tbody tr th {\n",
       "        vertical-align: top;\n",
       "    }\n",
       "\n",
       "    .dataframe thead th {\n",
       "        text-align: right;\n",
       "    }\n",
       "</style>\n",
       "<table border=\"1\" class=\"dataframe\">\n",
       "  <thead>\n",
       "    <tr style=\"text-align: right;\">\n",
       "      <th></th>\n",
       "      <th>Buy Ts</th>\n",
       "      <th>Revenue</th>\n",
       "      <th>Uid</th>\n",
       "    </tr>\n",
       "  </thead>\n",
       "  <tbody>\n",
       "    <tr>\n",
       "      <th>0</th>\n",
       "      <td>2017-06-01 00:10:00</td>\n",
       "      <td>17.00</td>\n",
       "      <td>10329302124590727494</td>\n",
       "    </tr>\n",
       "    <tr>\n",
       "      <th>1</th>\n",
       "      <td>2017-06-01 00:25:00</td>\n",
       "      <td>0.55</td>\n",
       "      <td>11627257723692907447</td>\n",
       "    </tr>\n",
       "    <tr>\n",
       "      <th>2</th>\n",
       "      <td>2017-06-01 00:27:00</td>\n",
       "      <td>0.37</td>\n",
       "      <td>17903680561304213844</td>\n",
       "    </tr>\n",
       "    <tr>\n",
       "      <th>3</th>\n",
       "      <td>2017-06-01 00:29:00</td>\n",
       "      <td>0.55</td>\n",
       "      <td>16109239769442553005</td>\n",
       "    </tr>\n",
       "    <tr>\n",
       "      <th>4</th>\n",
       "      <td>2017-06-01 07:58:00</td>\n",
       "      <td>0.37</td>\n",
       "      <td>14200605875248379450</td>\n",
       "    </tr>\n",
       "    <tr>\n",
       "      <th>5</th>\n",
       "      <td>2017-06-01 08:43:00</td>\n",
       "      <td>0.18</td>\n",
       "      <td>10402394430196413321</td>\n",
       "    </tr>\n",
       "    <tr>\n",
       "      <th>6</th>\n",
       "      <td>2017-06-01 08:54:00</td>\n",
       "      <td>1.83</td>\n",
       "      <td>12464626743129688638</td>\n",
       "    </tr>\n",
       "    <tr>\n",
       "      <th>7</th>\n",
       "      <td>2017-06-01 09:22:00</td>\n",
       "      <td>1.22</td>\n",
       "      <td>3644482766749211722</td>\n",
       "    </tr>\n",
       "    <tr>\n",
       "      <th>8</th>\n",
       "      <td>2017-06-01 09:22:00</td>\n",
       "      <td>3.30</td>\n",
       "      <td>17542070709969841479</td>\n",
       "    </tr>\n",
       "    <tr>\n",
       "      <th>9</th>\n",
       "      <td>2017-06-01 09:23:00</td>\n",
       "      <td>0.37</td>\n",
       "      <td>1074355127080856382</td>\n",
       "    </tr>\n",
       "  </tbody>\n",
       "</table>\n",
       "</div>"
      ],
      "text/plain": [
       "                Buy Ts  Revenue                   Uid\n",
       "0  2017-06-01 00:10:00    17.00  10329302124590727494\n",
       "1  2017-06-01 00:25:00     0.55  11627257723692907447\n",
       "2  2017-06-01 00:27:00     0.37  17903680561304213844\n",
       "3  2017-06-01 00:29:00     0.55  16109239769442553005\n",
       "4  2017-06-01 07:58:00     0.37  14200605875248379450\n",
       "5  2017-06-01 08:43:00     0.18  10402394430196413321\n",
       "6  2017-06-01 08:54:00     1.83  12464626743129688638\n",
       "7  2017-06-01 09:22:00     1.22   3644482766749211722\n",
       "8  2017-06-01 09:22:00     3.30  17542070709969841479\n",
       "9  2017-06-01 09:23:00     0.37   1074355127080856382"
      ]
     },
     "metadata": {},
     "output_type": "display_data"
    },
    {
     "data": {
      "text/html": [
       "<div>\n",
       "<style scoped>\n",
       "    .dataframe tbody tr th:only-of-type {\n",
       "        vertical-align: middle;\n",
       "    }\n",
       "\n",
       "    .dataframe tbody tr th {\n",
       "        vertical-align: top;\n",
       "    }\n",
       "\n",
       "    .dataframe thead th {\n",
       "        text-align: right;\n",
       "    }\n",
       "</style>\n",
       "<table border=\"1\" class=\"dataframe\">\n",
       "  <thead>\n",
       "    <tr style=\"text-align: right;\">\n",
       "      <th></th>\n",
       "      <th>Revenue</th>\n",
       "      <th>Uid</th>\n",
       "    </tr>\n",
       "  </thead>\n",
       "  <tbody>\n",
       "    <tr>\n",
       "      <th>count</th>\n",
       "      <td>50415.000000</td>\n",
       "      <td>5.041500e+04</td>\n",
       "    </tr>\n",
       "    <tr>\n",
       "      <th>mean</th>\n",
       "      <td>4.999647</td>\n",
       "      <td>9.098161e+18</td>\n",
       "    </tr>\n",
       "    <tr>\n",
       "      <th>std</th>\n",
       "      <td>21.818359</td>\n",
       "      <td>5.285742e+18</td>\n",
       "    </tr>\n",
       "    <tr>\n",
       "      <th>min</th>\n",
       "      <td>0.000000</td>\n",
       "      <td>3.135781e+14</td>\n",
       "    </tr>\n",
       "    <tr>\n",
       "      <th>25%</th>\n",
       "      <td>1.220000</td>\n",
       "      <td>4.533567e+18</td>\n",
       "    </tr>\n",
       "    <tr>\n",
       "      <th>50%</th>\n",
       "      <td>2.500000</td>\n",
       "      <td>9.102274e+18</td>\n",
       "    </tr>\n",
       "    <tr>\n",
       "      <th>75%</th>\n",
       "      <td>4.890000</td>\n",
       "      <td>1.368290e+19</td>\n",
       "    </tr>\n",
       "    <tr>\n",
       "      <th>max</th>\n",
       "      <td>2633.280000</td>\n",
       "      <td>1.844617e+19</td>\n",
       "    </tr>\n",
       "  </tbody>\n",
       "</table>\n",
       "</div>"
      ],
      "text/plain": [
       "            Revenue           Uid\n",
       "count  50415.000000  5.041500e+04\n",
       "mean       4.999647  9.098161e+18\n",
       "std       21.818359  5.285742e+18\n",
       "min        0.000000  3.135781e+14\n",
       "25%        1.220000  4.533567e+18\n",
       "50%        2.500000  9.102274e+18\n",
       "75%        4.890000  1.368290e+19\n",
       "max     2633.280000  1.844617e+19"
      ]
     },
     "metadata": {},
     "output_type": "display_data"
    },
    {
     "name": "stdout",
     "output_type": "stream",
     "text": [
      "<class 'pandas.core.frame.DataFrame'>\n",
      "RangeIndex: 50415 entries, 0 to 50414\n",
      "Data columns (total 3 columns):\n",
      " #   Column   Non-Null Count  Dtype  \n",
      "---  ------   --------------  -----  \n",
      " 0   Buy Ts   50415 non-null  object \n",
      " 1   Revenue  50415 non-null  float64\n",
      " 2   Uid      50415 non-null  uint64 \n",
      "dtypes: float64(1), object(1), uint64(1)\n",
      "memory usage: 1.2+ MB\n",
      "\n",
      "Name of columns:\n"
     ]
    },
    {
     "data": {
      "text/plain": [
       "Index(['Buy Ts', 'Revenue', 'Uid'], dtype='object')"
      ]
     },
     "metadata": {},
     "output_type": "display_data"
    },
    {
     "name": "stdout",
     "output_type": "stream",
     "text": [
      "\n",
      "Unique values:\n"
     ]
    },
    {
     "data": {
      "text/plain": [
       "Buy Ts     45991\n",
       "Revenue     1149\n",
       "Uid        36523\n",
       "dtype: int64"
      ]
     },
     "metadata": {},
     "output_type": "display_data"
    },
    {
     "name": "stdout",
     "output_type": "stream",
     "text": [
      "\n",
      "Sum of NaN values:\n"
     ]
    },
    {
     "data": {
      "text/plain": [
       "Buy Ts     0\n",
       "Revenue    0\n",
       "Uid        0\n",
       "dtype: int64"
      ]
     },
     "metadata": {},
     "output_type": "display_data"
    }
   ],
   "source": [
    "datainfo(orders)"
   ]
  },
  {
   "cell_type": "code",
   "execution_count": 47,
   "id": "44dcdfd2-d33b-47d5-8565-8d90b9bb2aa0",
   "metadata": {},
   "outputs": [
    {
     "data": {
      "text/html": [
       "<div>\n",
       "<style scoped>\n",
       "    .dataframe tbody tr th:only-of-type {\n",
       "        vertical-align: middle;\n",
       "    }\n",
       "\n",
       "    .dataframe tbody tr th {\n",
       "        vertical-align: top;\n",
       "    }\n",
       "\n",
       "    .dataframe thead th {\n",
       "        text-align: right;\n",
       "    }\n",
       "</style>\n",
       "<table border=\"1\" class=\"dataframe\">\n",
       "  <thead>\n",
       "    <tr style=\"text-align: right;\">\n",
       "      <th></th>\n",
       "      <th>source_id</th>\n",
       "      <th>dt</th>\n",
       "      <th>costs</th>\n",
       "    </tr>\n",
       "  </thead>\n",
       "  <tbody>\n",
       "    <tr>\n",
       "      <th>0</th>\n",
       "      <td>1</td>\n",
       "      <td>2017-06-01</td>\n",
       "      <td>75.20</td>\n",
       "    </tr>\n",
       "    <tr>\n",
       "      <th>1</th>\n",
       "      <td>1</td>\n",
       "      <td>2017-06-02</td>\n",
       "      <td>62.25</td>\n",
       "    </tr>\n",
       "    <tr>\n",
       "      <th>2</th>\n",
       "      <td>1</td>\n",
       "      <td>2017-06-03</td>\n",
       "      <td>36.53</td>\n",
       "    </tr>\n",
       "    <tr>\n",
       "      <th>3</th>\n",
       "      <td>1</td>\n",
       "      <td>2017-06-04</td>\n",
       "      <td>55.00</td>\n",
       "    </tr>\n",
       "    <tr>\n",
       "      <th>4</th>\n",
       "      <td>1</td>\n",
       "      <td>2017-06-05</td>\n",
       "      <td>57.08</td>\n",
       "    </tr>\n",
       "    <tr>\n",
       "      <th>5</th>\n",
       "      <td>1</td>\n",
       "      <td>2017-06-06</td>\n",
       "      <td>40.39</td>\n",
       "    </tr>\n",
       "    <tr>\n",
       "      <th>6</th>\n",
       "      <td>1</td>\n",
       "      <td>2017-06-07</td>\n",
       "      <td>40.59</td>\n",
       "    </tr>\n",
       "    <tr>\n",
       "      <th>7</th>\n",
       "      <td>1</td>\n",
       "      <td>2017-06-08</td>\n",
       "      <td>56.63</td>\n",
       "    </tr>\n",
       "    <tr>\n",
       "      <th>8</th>\n",
       "      <td>1</td>\n",
       "      <td>2017-06-09</td>\n",
       "      <td>40.16</td>\n",
       "    </tr>\n",
       "    <tr>\n",
       "      <th>9</th>\n",
       "      <td>1</td>\n",
       "      <td>2017-06-10</td>\n",
       "      <td>43.24</td>\n",
       "    </tr>\n",
       "  </tbody>\n",
       "</table>\n",
       "</div>"
      ],
      "text/plain": [
       "   source_id          dt  costs\n",
       "0          1  2017-06-01  75.20\n",
       "1          1  2017-06-02  62.25\n",
       "2          1  2017-06-03  36.53\n",
       "3          1  2017-06-04  55.00\n",
       "4          1  2017-06-05  57.08\n",
       "5          1  2017-06-06  40.39\n",
       "6          1  2017-06-07  40.59\n",
       "7          1  2017-06-08  56.63\n",
       "8          1  2017-06-09  40.16\n",
       "9          1  2017-06-10  43.24"
      ]
     },
     "metadata": {},
     "output_type": "display_data"
    },
    {
     "data": {
      "text/html": [
       "<div>\n",
       "<style scoped>\n",
       "    .dataframe tbody tr th:only-of-type {\n",
       "        vertical-align: middle;\n",
       "    }\n",
       "\n",
       "    .dataframe tbody tr th {\n",
       "        vertical-align: top;\n",
       "    }\n",
       "\n",
       "    .dataframe thead th {\n",
       "        text-align: right;\n",
       "    }\n",
       "</style>\n",
       "<table border=\"1\" class=\"dataframe\">\n",
       "  <thead>\n",
       "    <tr style=\"text-align: right;\">\n",
       "      <th></th>\n",
       "      <th>source_id</th>\n",
       "      <th>costs</th>\n",
       "    </tr>\n",
       "  </thead>\n",
       "  <tbody>\n",
       "    <tr>\n",
       "      <th>count</th>\n",
       "      <td>2542.000000</td>\n",
       "      <td>2542.000000</td>\n",
       "    </tr>\n",
       "    <tr>\n",
       "      <th>mean</th>\n",
       "      <td>4.857199</td>\n",
       "      <td>129.477427</td>\n",
       "    </tr>\n",
       "    <tr>\n",
       "      <th>std</th>\n",
       "      <td>3.181581</td>\n",
       "      <td>156.296628</td>\n",
       "    </tr>\n",
       "    <tr>\n",
       "      <th>min</th>\n",
       "      <td>1.000000</td>\n",
       "      <td>0.540000</td>\n",
       "    </tr>\n",
       "    <tr>\n",
       "      <th>25%</th>\n",
       "      <td>2.000000</td>\n",
       "      <td>21.945000</td>\n",
       "    </tr>\n",
       "    <tr>\n",
       "      <th>50%</th>\n",
       "      <td>4.000000</td>\n",
       "      <td>77.295000</td>\n",
       "    </tr>\n",
       "    <tr>\n",
       "      <th>75%</th>\n",
       "      <td>9.000000</td>\n",
       "      <td>170.065000</td>\n",
       "    </tr>\n",
       "    <tr>\n",
       "      <th>max</th>\n",
       "      <td>10.000000</td>\n",
       "      <td>1788.280000</td>\n",
       "    </tr>\n",
       "  </tbody>\n",
       "</table>\n",
       "</div>"
      ],
      "text/plain": [
       "         source_id        costs\n",
       "count  2542.000000  2542.000000\n",
       "mean      4.857199   129.477427\n",
       "std       3.181581   156.296628\n",
       "min       1.000000     0.540000\n",
       "25%       2.000000    21.945000\n",
       "50%       4.000000    77.295000\n",
       "75%       9.000000   170.065000\n",
       "max      10.000000  1788.280000"
      ]
     },
     "metadata": {},
     "output_type": "display_data"
    },
    {
     "name": "stdout",
     "output_type": "stream",
     "text": [
      "<class 'pandas.core.frame.DataFrame'>\n",
      "RangeIndex: 2542 entries, 0 to 2541\n",
      "Data columns (total 3 columns):\n",
      " #   Column     Non-Null Count  Dtype  \n",
      "---  ------     --------------  -----  \n",
      " 0   source_id  2542 non-null   int64  \n",
      " 1   dt         2542 non-null   object \n",
      " 2   costs      2542 non-null   float64\n",
      "dtypes: float64(1), int64(1), object(1)\n",
      "memory usage: 59.7+ KB\n",
      "\n",
      "Name of columns:\n"
     ]
    },
    {
     "data": {
      "text/plain": [
       "Index(['source_id', 'dt', 'costs'], dtype='object')"
      ]
     },
     "metadata": {},
     "output_type": "display_data"
    },
    {
     "name": "stdout",
     "output_type": "stream",
     "text": [
      "\n",
      "Unique values:\n"
     ]
    },
    {
     "data": {
      "text/plain": [
       "source_id       7\n",
       "dt            364\n",
       "costs        2396\n",
       "dtype: int64"
      ]
     },
     "metadata": {},
     "output_type": "display_data"
    },
    {
     "name": "stdout",
     "output_type": "stream",
     "text": [
      "\n",
      "Sum of NaN values:\n"
     ]
    },
    {
     "data": {
      "text/plain": [
       "source_id    0\n",
       "dt           0\n",
       "costs        0\n",
       "dtype: int64"
      ]
     },
     "metadata": {},
     "output_type": "display_data"
    }
   ],
   "source": [
    "datainfo(marketing)"
   ]
  },
  {
   "cell_type": "markdown",
   "id": "f9225131-59df-446b-86b2-acb07a0d4f4f",
   "metadata": {},
   "source": [
    "Во всех таблицах проблема некорректного типа данных дат (object вместо datetime64)"
   ]
  },
  {
   "cell_type": "code",
   "execution_count": 48,
   "id": "841236ba-e26e-4e11-a96d-beaa9b690c6f",
   "metadata": {},
   "outputs": [],
   "source": [
    "# Функцию для изменения типа данных на 'datetime64'\n",
    "def convert_to_time(dataframe, column, formtype):\n",
    "    if formtype == 1:    # Если формат даты (год-месяц-день час:минута:секунда)\n",
    "        result = pd.to_datetime(dataframe[column], format='%Y-%m-%d %H:%M:%S')\n",
    "        return result\n",
    "    elif formtype == 2:  # Если формат даты (год-месяц-день)\n",
    "        result = pd.to_datetime(dataframe[column], format='%Y-%m-%d')\n",
    "        return result\n",
    "    else:\n",
    "        print('Некорректный формат даты')"
   ]
  },
  {
   "cell_type": "code",
   "execution_count": 49,
   "id": "b97de6b1-03c2-4ef8-81ff-db918b36f314",
   "metadata": {},
   "outputs": [
    {
     "name": "stdout",
     "output_type": "stream",
     "text": [
      "datetime64[ns]\n",
      "datetime64[ns]\n",
      "datetime64[ns]\n",
      "datetime64[ns]\n"
     ]
    }
   ],
   "source": [
    "#Изменяем типы данных и проверяем\n",
    "visits['End Ts'] = convert_to_time(visits, 'End Ts', 1) \n",
    "visits['Start Ts'] = convert_to_time(visits, 'Start Ts', 1)\n",
    "orders['Buy Ts'] = convert_to_time(orders, 'Buy Ts', 1)\n",
    "marketing['dt'] = convert_to_time(marketing, 'dt', 2)\n",
    "print(visits['End Ts'].dtype)  \n",
    "print(visits['Start Ts'].dtype) \n",
    "print(orders['Buy Ts'].dtype)\n",
    "print(marketing['dt'].dtype)"
   ]
  },
  {
   "cell_type": "code",
   "execution_count": 50,
   "id": "717a7d4a-6844-4ae9-9e7a-a94dffff5ff8",
   "metadata": {},
   "outputs": [],
   "source": [
    "#напишем функцию перевода столбцов к нижнему регистру и замены пробелов на \"_\" \n",
    "def replace_columns_names(data):\n",
    "    list_of_columns = []\n",
    "    for column in data.columns:\n",
    "        column = column.lower()\n",
    "        column = column.replace(' ', '_')\n",
    "        list_of_columns.append(column)\n",
    "    data.columns = list_of_columns\n",
    "    return data"
   ]
  },
  {
   "cell_type": "code",
   "execution_count": 51,
   "id": "0a165382-31f0-4214-82a5-667cbf660542",
   "metadata": {},
   "outputs": [],
   "source": [
    "visits = replace_columns_names(visits)\n",
    "orders = replace_columns_names(orders)\n",
    "marketing = replace_columns_names(marketing)"
   ]
  },
  {
   "cell_type": "markdown",
   "id": "1541795a-ed4a-4f1f-9653-1fd85622322d",
   "metadata": {},
   "source": [
    "В таблице orders есть значения с revenue = 0, исследуем этот вопрос"
   ]
  },
  {
   "cell_type": "code",
   "execution_count": 53,
   "id": "294229cd-2340-407e-93c5-b76df375d917",
   "metadata": {},
   "outputs": [
    {
     "name": "stdout",
     "output_type": "stream",
     "text": [
      "Количество строк с нулевым значением: 51\n",
      "Доля нулевых значений от общего количества записей: 0.10%\n"
     ]
    }
   ],
   "source": [
    "print('Количество строк с нулевым значением:', orders[orders['revenue'] == 0]['revenue'].count())\n",
    "print('Доля нулевых значений от общего количества записей: {:.2%}'.format(orders[orders['revenue'] == 0]['revenue'].count() / len(orders)))"
   ]
  },
  {
   "cell_type": "code",
   "execution_count": 54,
   "id": "d80486a2-6656-4798-b9ab-feae20c7f8e9",
   "metadata": {},
   "outputs": [
    {
     "data": {
      "image/png": "[encoded data removed]",
      "text/plain": [
       "<Figure size 640x480 with 1 Axes>"
      ]
     },
     "metadata": {},
     "output_type": "display_data"
    }
   ],
   "source": [
    "orders.boxplot(column='revenue')\n",
    "plt.show()"
   ]
  },
  {
   "cell_type": "code",
   "execution_count": 55,
   "id": "26fe46a4-b347-491c-979f-4cc23120fca9",
   "metadata": {},
   "outputs": [
    {
     "data": {
      "image/png": "[encoded data removed]",
      "text/plain": [
       "<Figure size 640x480 with 1 Axes>"
      ]
     },
     "metadata": {},
     "output_type": "display_data"
    },
    {
     "data": {
      "image/png": "[encoded data removed]",
      "text/plain": [
       "<Figure size 640x480 with 1 Axes>"
      ]
     },
     "metadata": {},
     "output_type": "display_data"
    }
   ],
   "source": [
    "plt.ylim(0, 12)\n",
    "orders.boxplot(column='revenue', figsize=(10,5))\n",
    "plt.figure()\n",
    "plt.ylim(10, 11)\n",
    "orders.boxplot(column='revenue', figsize=(10,5)) # revenue < 10.5\n",
    "plt.show()"
   ]
  },
  {
   "cell_type": "code",
   "execution_count": 56,
   "id": "98df50d5-c990-4bcc-96e3-842230abfc02",
   "metadata": {},
   "outputs": [
    {
     "name": "stdout",
     "output_type": "stream",
     "text": [
      "3990\n",
      "Доля выбросов: 8 %\n"
     ]
    }
   ],
   "source": [
    "#видим что выбросы начинаются со значения 10.4\n",
    "print(len(orders[orders['revenue'] >= 10.4]))\n",
    "print('Доля выбросов:', round((len(orders[orders['revenue'] >= 10.4]) / len(orders) * 100)), '%')"
   ]
  },
  {
   "cell_type": "markdown",
   "id": "5393904c-03a7-4cf0-b911-1b6d2701c779",
   "metadata": {},
   "source": [
    "### Расчет метрик и построение отчётов"
   ]
  },
  {
   "cell_type": "markdown",
   "id": "4d688ed3-5756-4a2f-a80c-7cc2ca8cfa7d",
   "metadata": {},
   "source": [
    "#### Продукт"
   ]
  },
  {
   "cell_type": "markdown",
   "id": "8888980b-57dd-4d42-8438-f907ea4ba43e",
   "metadata": {},
   "source": [
    "***Количество пользователе продуктом в день(DAU), неделю(WAU), месяц(MAU)***"
   ]
  },
  {
   "cell_type": "markdown",
   "id": "758633bf-6b78-4799-89a1-bb5655755999",
   "metadata": {},
   "source": [
    "* __DAU__ *(от англ. daily active users)* — количество уникальных пользователей в день\n",
    "* __WAU__ *(от англ. weekly active users)* — количество уникальных пользователей в неделю\n",
    "* __MAU__ *(от англ. monthly active users)* — количество уникальных пользователей в месяц"
   ]
  },
  {
   "cell_type": "code",
   "execution_count": 57,
   "id": "3f44061b-b091-44c5-8b19-64ba5828016d",
   "metadata": {},
   "outputs": [
    {
     "data": {
      "text/html": [
       "<div>\n",
       "<style scoped>\n",
       "    .dataframe tbody tr th:only-of-type {\n",
       "        vertical-align: middle;\n",
       "    }\n",
       "\n",
       "    .dataframe tbody tr th {\n",
       "        vertical-align: top;\n",
       "    }\n",
       "\n",
       "    .dataframe thead th {\n",
       "        text-align: right;\n",
       "    }\n",
       "</style>\n",
       "<table border=\"1\" class=\"dataframe\">\n",
       "  <thead>\n",
       "    <tr style=\"text-align: right;\">\n",
       "      <th></th>\n",
       "      <th>device</th>\n",
       "      <th>end_ts</th>\n",
       "      <th>source_id</th>\n",
       "      <th>start_ts</th>\n",
       "      <th>uid</th>\n",
       "      <th>day</th>\n",
       "      <th>week</th>\n",
       "      <th>month</th>\n",
       "      <th>year</th>\n",
       "      <th>date</th>\n",
       "    </tr>\n",
       "  </thead>\n",
       "  <tbody>\n",
       "    <tr>\n",
       "      <th>334833</th>\n",
       "      <td>desktop</td>\n",
       "      <td>2017-11-08 16:11:00</td>\n",
       "      <td>5</td>\n",
       "      <td>2017-11-08 16:11:00</td>\n",
       "      <td>4096603975948930813</td>\n",
       "      <td>8</td>\n",
       "      <td>45</td>\n",
       "      <td>11</td>\n",
       "      <td>2017</td>\n",
       "      <td>2017-11-08</td>\n",
       "    </tr>\n",
       "    <tr>\n",
       "      <th>296615</th>\n",
       "      <td>touch</td>\n",
       "      <td>2017-12-03 16:19:00</td>\n",
       "      <td>1</td>\n",
       "      <td>2017-12-03 15:23:00</td>\n",
       "      <td>2104462645320428573</td>\n",
       "      <td>3</td>\n",
       "      <td>48</td>\n",
       "      <td>12</td>\n",
       "      <td>2017</td>\n",
       "      <td>2017-12-03</td>\n",
       "    </tr>\n",
       "    <tr>\n",
       "      <th>217282</th>\n",
       "      <td>desktop</td>\n",
       "      <td>2017-12-20 12:18:00</td>\n",
       "      <td>4</td>\n",
       "      <td>2017-12-20 12:16:00</td>\n",
       "      <td>14717087967047848715</td>\n",
       "      <td>20</td>\n",
       "      <td>51</td>\n",
       "      <td>12</td>\n",
       "      <td>2017</td>\n",
       "      <td>2017-12-20</td>\n",
       "    </tr>\n",
       "    <tr>\n",
       "      <th>54162</th>\n",
       "      <td>touch</td>\n",
       "      <td>2017-09-10 12:02:00</td>\n",
       "      <td>5</td>\n",
       "      <td>2017-09-10 11:53:00</td>\n",
       "      <td>15069707354821787560</td>\n",
       "      <td>10</td>\n",
       "      <td>36</td>\n",
       "      <td>9</td>\n",
       "      <td>2017</td>\n",
       "      <td>2017-09-10</td>\n",
       "    </tr>\n",
       "    <tr>\n",
       "      <th>145552</th>\n",
       "      <td>desktop</td>\n",
       "      <td>2017-12-10 12:29:00</td>\n",
       "      <td>1</td>\n",
       "      <td>2017-12-10 12:27:00</td>\n",
       "      <td>10745555005165856232</td>\n",
       "      <td>10</td>\n",
       "      <td>49</td>\n",
       "      <td>12</td>\n",
       "      <td>2017</td>\n",
       "      <td>2017-12-10</td>\n",
       "    </tr>\n",
       "  </tbody>\n",
       "</table>\n",
       "</div>"
      ],
      "text/plain": [
       "         device              end_ts  source_id            start_ts  \\\n",
       "334833  desktop 2017-11-08 16:11:00          5 2017-11-08 16:11:00   \n",
       "296615    touch 2017-12-03 16:19:00          1 2017-12-03 15:23:00   \n",
       "217282  desktop 2017-12-20 12:18:00          4 2017-12-20 12:16:00   \n",
       "54162     touch 2017-09-10 12:02:00          5 2017-09-10 11:53:00   \n",
       "145552  desktop 2017-12-10 12:29:00          1 2017-12-10 12:27:00   \n",
       "\n",
       "                         uid  day  week  month  year        date  \n",
       "334833   4096603975948930813    8    45     11  2017  2017-11-08  \n",
       "296615   2104462645320428573    3    48     12  2017  2017-12-03  \n",
       "217282  14717087967047848715   20    51     12  2017  2017-12-20  \n",
       "54162   15069707354821787560   10    36      9  2017  2017-09-10  \n",
       "145552  10745555005165856232   10    49     12  2017  2017-12-10  "
      ]
     },
     "execution_count": 57,
     "metadata": {},
     "output_type": "execute_result"
    }
   ],
   "source": [
    "#разобъем дату на столбцы: год, месяц, неделя, день\n",
    "visits['day'] = visits['start_ts'].dt.day\n",
    "visits['week'] = visits['start_ts'].dt.isocalendar().week\n",
    "visits['month'] = visits['start_ts'].dt.month\n",
    "visits['year'] = visits['start_ts'].dt.year\n",
    "visits['date'] = visits['start_ts'].dt.date\n",
    "\n",
    "visits.sample(5)"
   ]
  },
  {
   "cell_type": "code",
   "execution_count": 62,
   "id": "b913b282-bacd-443b-ad53-1a7ebced965b",
   "metadata": {},
   "outputs": [],
   "source": [
    "\"\"\"\n",
    "Функция подсчитывает количество уникальных пользователей и количество сессий за период, выводит графики;\n",
    "строит графики распределений, а также выводит описание .describe() группировки.\n",
    "Входные параметры:\n",
    "    `df` - датафрейм с информацией о посещениях сервиса\n",
    "    `period` - список полей для группировки по периоду\n",
    "    `period_name` - название периода в винительном падеже для заголовков.\n",
    "\"\"\"\n",
    "def nusers_period(df, period, period_name):  \n",
    "    nusers = (df.groupby(period)\n",
    "                  .agg(\n",
    "                      user_count = ('uid','nunique'),\n",
    "                      session_count = ('uid','count'))\n",
    "             )\n",
    "    nusers['sessions_per_user'] = nusers['session_count'] /  nusers['user_count']\n",
    "    display(nusers.sample(5))\n",
    "    nusers.sort_values(by=period, inplace=True)\n",
    "    nusers[['user_count', 'session_count']].plot(figsize=(15,5), grid=True, style='o', title='Количество пользователей/сессий в '+ period_name)\n",
    "    plt.ylabel('количество пользователей/сессий')\n",
    "    plt.show()\n",
    "    \n",
    "    plt.figure(figsize=(10,5))\n",
    "    sns.distplot(nusers['user_count'], bins=20, label='пользователи')\n",
    "    sns.distplot(nusers['session_count'], bins=20, label='сессии')\n",
    "    plt.title('Распределение количества пользователей/сессий в ' + period_name)\n",
    "    plt.legend()\n",
    "    plt.show() \n",
    "    \n",
    "    display(nusers.describe())"
   ]
  },
  {
   "cell_type": "code",
   "execution_count": 63,
   "id": "51e0c0b4-fbd3-4a79-a769-dbe3d234c51b",
   "metadata": {},
   "outputs": [
    {
     "data": {
      "text/html": [
       "<div>\n",
       "<style scoped>\n",
       "    .dataframe tbody tr th:only-of-type {\n",
       "        vertical-align: middle;\n",
       "    }\n",
       "\n",
       "    .dataframe tbody tr th {\n",
       "        vertical-align: top;\n",
       "    }\n",
       "\n",
       "    .dataframe thead th {\n",
       "        text-align: right;\n",
       "    }\n",
       "</style>\n",
       "<table border=\"1\" class=\"dataframe\">\n",
       "  <thead>\n",
       "    <tr style=\"text-align: right;\">\n",
       "      <th></th>\n",
       "      <th>user_count</th>\n",
       "      <th>session_count</th>\n",
       "      <th>sessions_per_user</th>\n",
       "    </tr>\n",
       "    <tr>\n",
       "      <th>date</th>\n",
       "      <th></th>\n",
       "      <th></th>\n",
       "      <th></th>\n",
       "    </tr>\n",
       "  </thead>\n",
       "  <tbody>\n",
       "    <tr>\n",
       "      <th>2017-09-29</th>\n",
       "      <td>1074</td>\n",
       "      <td>1167</td>\n",
       "      <td>1.086592</td>\n",
       "    </tr>\n",
       "    <tr>\n",
       "      <th>2017-06-18</th>\n",
       "      <td>285</td>\n",
       "      <td>306</td>\n",
       "      <td>1.073684</td>\n",
       "    </tr>\n",
       "    <tr>\n",
       "      <th>2017-09-30</th>\n",
       "      <td>847</td>\n",
       "      <td>890</td>\n",
       "      <td>1.050767</td>\n",
       "    </tr>\n",
       "    <tr>\n",
       "      <th>2018-01-20</th>\n",
       "      <td>980</td>\n",
       "      <td>1061</td>\n",
       "      <td>1.082653</td>\n",
       "    </tr>\n",
       "    <tr>\n",
       "      <th>2017-08-06</th>\n",
       "      <td>282</td>\n",
       "      <td>296</td>\n",
       "      <td>1.049645</td>\n",
       "    </tr>\n",
       "  </tbody>\n",
       "</table>\n",
       "</div>"
      ],
      "text/plain": [
       "            user_count  session_count  sessions_per_user\n",
       "date                                                    \n",
       "2017-09-29        1074           1167           1.086592\n",
       "2017-06-18         285            306           1.073684\n",
       "2017-09-30         847            890           1.050767\n",
       "2018-01-20         980           1061           1.082653\n",
       "2017-08-06         282            296           1.049645"
      ]
     },
     "metadata": {},
     "output_type": "display_data"
    },
    {
     "data": {
      "image/png": "[encoded data removed]",
      "text/plain": [
       "<Figure size 1500x500 with 1 Axes>"
      ]
     },
     "metadata": {},
     "output_type": "display_data"
    },
    {
     "name": "stderr",
     "output_type": "stream",
     "text": [
      "C:\\Users\\Екатерина\\AppData\\Local\\Temp\\ipykernel_15216\\2271751471.py:23: UserWarning: \n",
      "\n",
      "`distplot` is a deprecated function and will be removed in seaborn v0.14.0.\n",
      "\n",
      "Please adapt your code to use either `displot` (a figure-level function with\n",
      "similar flexibility) or `histplot` (an axes-level function for histograms).\n",
      "\n",
      "For a guide to updating your code to use the new functions, please see\n",
      "https://gist.github.com/mwaskom/de44147ed2974457ad6372750bbe5751\n",
      "\n",
      "  sns.distplot(nusers['user_count'], bins=20, label='пользователи')\n",
      "C:\\Users\\Екатерина\\AppData\\Local\\Temp\\ipykernel_15216\\2271751471.py:24: UserWarning: \n",
      "\n",
      "`distplot` is a deprecated function and will be removed in seaborn v0.14.0.\n",
      "\n",
      "Please adapt your code to use either `displot` (a figure-level function with\n",
      "similar flexibility) or `histplot` (an axes-level function for histograms).\n",
      "\n",
      "For a guide to updating your code to use the new functions, please see\n",
      "https://gist.github.com/mwaskom/de44147ed2974457ad6372750bbe5751\n",
      "\n",
      "  sns.distplot(nusers['session_count'], bins=20, label='сессии')\n"
     ]
    },
    {
     "data": {
      "image/png": "[encoded data removed]",
      "text/plain": [
       "<Figure size 1000x500 with 1 Axes>"
      ]
     },
     "metadata": {},
     "output_type": "display_data"
    },
    {
     "data": {
      "text/html": [
       "<div>\n",
       "<style scoped>\n",
       "    .dataframe tbody tr th:only-of-type {\n",
       "        vertical-align: middle;\n",
       "    }\n",
       "\n",
       "    .dataframe tbody tr th {\n",
       "        vertical-align: top;\n",
       "    }\n",
       "\n",
       "    .dataframe thead th {\n",
       "        text-align: right;\n",
       "    }\n",
       "</style>\n",
       "<table border=\"1\" class=\"dataframe\">\n",
       "  <thead>\n",
       "    <tr style=\"text-align: right;\">\n",
       "      <th></th>\n",
       "      <th>user_count</th>\n",
       "      <th>session_count</th>\n",
       "      <th>sessions_per_user</th>\n",
       "    </tr>\n",
       "  </thead>\n",
       "  <tbody>\n",
       "    <tr>\n",
       "      <th>count</th>\n",
       "      <td>364.000000</td>\n",
       "      <td>364.000000</td>\n",
       "      <td>364.000000</td>\n",
       "    </tr>\n",
       "    <tr>\n",
       "      <th>mean</th>\n",
       "      <td>907.991758</td>\n",
       "      <td>987.362637</td>\n",
       "      <td>1.082170</td>\n",
       "    </tr>\n",
       "    <tr>\n",
       "      <th>std</th>\n",
       "      <td>370.513838</td>\n",
       "      <td>418.994796</td>\n",
       "      <td>0.020876</td>\n",
       "    </tr>\n",
       "    <tr>\n",
       "      <th>min</th>\n",
       "      <td>1.000000</td>\n",
       "      <td>1.000000</td>\n",
       "      <td>1.000000</td>\n",
       "    </tr>\n",
       "    <tr>\n",
       "      <th>25%</th>\n",
       "      <td>594.000000</td>\n",
       "      <td>635.500000</td>\n",
       "      <td>1.070321</td>\n",
       "    </tr>\n",
       "    <tr>\n",
       "      <th>50%</th>\n",
       "      <td>921.000000</td>\n",
       "      <td>1003.000000</td>\n",
       "      <td>1.082488</td>\n",
       "    </tr>\n",
       "    <tr>\n",
       "      <th>75%</th>\n",
       "      <td>1173.000000</td>\n",
       "      <td>1280.000000</td>\n",
       "      <td>1.093876</td>\n",
       "    </tr>\n",
       "    <tr>\n",
       "      <th>max</th>\n",
       "      <td>3319.000000</td>\n",
       "      <td>4042.000000</td>\n",
       "      <td>1.217837</td>\n",
       "    </tr>\n",
       "  </tbody>\n",
       "</table>\n",
       "</div>"
      ],
      "text/plain": [
       "        user_count  session_count  sessions_per_user\n",
       "count   364.000000     364.000000         364.000000\n",
       "mean    907.991758     987.362637           1.082170\n",
       "std     370.513838     418.994796           0.020876\n",
       "min       1.000000       1.000000           1.000000\n",
       "25%     594.000000     635.500000           1.070321\n",
       "50%     921.000000    1003.000000           1.082488\n",
       "75%    1173.000000    1280.000000           1.093876\n",
       "max    3319.000000    4042.000000           1.217837"
      ]
     },
     "metadata": {},
     "output_type": "display_data"
    }
   ],
   "source": [
    "# Посмотрим, сколько людей пользуются сервисом в день:\n",
    "nusers_period(visits, ['date'], 'день')"
   ]
  },
  {
   "cell_type": "markdown",
   "id": "5dcce785-4d8b-4f8c-97de-ae68f24b431b",
   "metadata": {},
   "source": [
    "***Количество сессий в день()и***"
   ]
  },
  {
   "cell_type": "markdown",
   "id": "32ff7b35-ba93-4f65-9fb2-098f06da3759",
   "metadata": {},
   "source": [
    "***Длительность одной сессии***"
   ]
  },
  {
   "cell_type": "markdown",
   "id": "c1de81a5-19eb-4be9-a790-7e814338c05c",
   "metadata": {},
   "source": [
    "***Как часто люди возвращаются***"
   ]
  },
  {
   "cell_type": "markdown",
   "id": "2fe672b0-f1e8-4683-bd1c-5e68ff2e6216",
   "metadata": {},
   "source": [
    "#### Продажи"
   ]
  },
  {
   "cell_type": "markdown",
   "id": "6ea55a4b-ecbf-4669-99f1-37d28ce12ec4",
   "metadata": {},
   "source": [
    "***Когда люди начинают покупать продукт***"
   ]
  },
  {
   "cell_type": "markdown",
   "id": "fa764b7a-55a2-4971-97fd-56125b328bdb",
   "metadata": {},
   "source": [
    "***Сколько раз покупают за период***"
   ]
  },
  {
   "cell_type": "markdown",
   "id": "23b89a04-e587-4978-b791-9a4f5e021d65",
   "metadata": {},
   "source": [
    "***Средний чек***"
   ]
  },
  {
   "cell_type": "markdown",
   "id": "61b40ffd-47ff-436a-beb6-5b90f53939d8",
   "metadata": {},
   "source": [
    "***Сколько денег приносят?(LTV)***"
   ]
  },
  {
   "cell_type": "markdown",
   "id": "45802e4c-001b-4522-8206-ee9916b04b6c",
   "metadata": {},
   "source": [
    "#### Маркетинг"
   ]
  },
  {
   "cell_type": "markdown",
   "id": "cc5a87a4-3cf3-432e-9e5f-4f695c8c2406",
   "metadata": {},
   "source": [
    "***Сколько денег потратили всего/на один источник/по времени***"
   ]
  },
  {
   "cell_type": "markdown",
   "id": "f5776b25-bed8-4671-bbd0-2be2dd5cdedf",
   "metadata": {},
   "source": [
    "***Сколько стоит привлечение одного покупателя из каждого источника?***"
   ]
  },
  {
   "cell_type": "markdown",
   "id": "b8c16c88-a80a-4d13-b634-9a948cd5592a",
   "metadata": {},
   "source": [
    "***На сколько окупились расходы?(ROI)***"
   ]
  },
  {
   "cell_type": "markdown",
   "id": "046df7ec-97af-493b-86b4-35386ca88d72",
   "metadata": {},
   "source": []
  },
  {
   "cell_type": "markdown",
   "id": "fbcc0997-6472-47df-8329-2a773bd01037",
   "metadata": {},
   "source": [
    "Когортный анализ (Cohort analysis) — метод оценки каких-либо метрик с разделением пользователей на независимые группы — когорты.\n",
    "Life-Time Value (LTV) — характеристика группы клиентов, которая показывает, сколько дохода в среднем приносит клиент из этой группы."
   ]
  },
  {
   "cell_type": "markdown",
   "id": "c7aeb570-6fdf-4406-8d65-1af2f581be1b",
   "metadata": {},
   "source": [
    "Самые распространенные ошибки при расчете LTV:\n",
    "\n",
    "Расчет LTV на основе выручки (Revenue), а не валовой прибыли (Gross Profit);\n",
    "Расчет LTV через Lifetime пользователей, полученный через 1/churn или другими способами;\n",
    "Расчет LTV через среднее количество покупок пользователей."
   ]
  },
  {
   "cell_type": "markdown",
   "id": "92e04183-0879-4bd8-9c0b-58c56a4e263d",
   "metadata": {},
   "source": []
  },
  {
   "cell_type": "code",
   "execution_count": null,
   "id": "e1c7b259-b381-4f11-9f9d-acede2f72257",
   "metadata": {},
   "outputs": [],
   "source": []
  },
  {
   "cell_type": "code",
   "execution_count": null,
   "id": "a153f2a4-444a-46d7-bce9-bcab28f6366a",
   "metadata": {},
   "outputs": [],
   "source": []
  },
  {
   "cell_type": "code",
   "execution_count": null,
   "id": "11a9b0fd-4feb-4af7-b081-d6376a2166b6",
   "metadata": {},
   "outputs": [],
   "source": []
  },
  {
   "cell_type": "code",
   "execution_count": null,
   "id": "c7a0bb61-b8e3-4ccc-b348-c048b3785031",
   "metadata": {},
   "outputs": [],
   "source": []
  },
  {
   "cell_type": "code",
   "execution_count": null,
   "id": "0beff45e-e912-452a-bd67-bf9a35c30dac",
   "metadata": {},
   "outputs": [],
   "source": []
  },
  {
   "cell_type": "code",
   "execution_count": null,
   "id": "638165cd-b439-4cdb-a1d3-91c2177d7af6",
   "metadata": {},
   "outputs": [],
   "source": []
  },
  {
   "cell_type": "code",
   "execution_count": null,
   "id": "b316d24c-05d9-4f5d-88b0-0d792dfad0d4",
   "metadata": {},
   "outputs": [],
   "source": []
  },
  {
   "cell_type": "code",
   "execution_count": null,
   "id": "e7d040ce-f63e-4350-a1a6-5cb03728f898",
   "metadata": {},
   "outputs": [],
   "source": []
  },
  {
   "cell_type": "code",
   "execution_count": null,
   "id": "50e3e92b-078f-46a7-921d-6ade8bb820c3",
   "metadata": {},
   "outputs": [],
   "source": []
  },
  {
   "cell_type": "code",
   "execution_count": null,
   "id": "c4400917-ee0c-42c3-8c54-d0b73cf19042",
   "metadata": {},
   "outputs": [],
   "source": []
  },
  {
   "cell_type": "code",
   "execution_count": null,
   "id": "cf6a9fc4-d30e-471b-a951-bdf6adbbf046",
   "metadata": {},
   "outputs": [],
   "source": []
  },
  {
   "cell_type": "code",
   "execution_count": null,
   "id": "23020b55-3026-4167-9000-10512f430355",
   "metadata": {},
   "outputs": [],
   "source": []
  },
  {
   "cell_type": "code",
   "execution_count": null,
   "id": "6b1279a2-af9b-4356-a7a0-779b7708b3b8",
   "metadata": {},
   "outputs": [],
   "source": []
  }
 ],
 "metadata": {
  "kernelspec": {
   "display_name": "Python 3 (ipykernel)",
   "language": "python",
   "name": "python3"
  },
  "language_info": {
   "codemirror_mode": {
    "name": "ipython",
    "version": 3
   },
   "file_extension": ".py",
   "mimetype": "text/x-python",
   "name": "python",
   "nbconvert_exporter": "python",
   "pygments_lexer": "ipython3",
   "version": "3.12.3"
  }
 },
 "nbformat": 4,
 "nbformat_minor": 5
}
